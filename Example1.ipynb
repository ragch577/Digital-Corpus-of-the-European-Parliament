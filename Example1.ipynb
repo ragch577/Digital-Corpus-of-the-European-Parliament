{
 "cells": [
  {
   "cell_type": "markdown",
   "metadata": {},
   "source": [
    "## One to one translation of europen languages using spark (Data : https://ec.europa.eu/jrc/en/language-technologies/dcep)"
   ]
  },
  {
   "cell_type": "code",
   "execution_count": 1,
   "metadata": {},
   "outputs": [],
   "source": [
    "from pyspark.sql import SparkSession\n",
    "from operator import add\n",
    "\n",
    "# New API\n",
    "spark_session = SparkSession\\\n",
    "        .builder\\\n",
    "        .master(\"spark://192.168.2.113:7077\") \\\n",
    "        .appName(\"blameyben_lecture1_hdfs_example\")\\\n",
    "        .config(\"spark.dynamicAllocation.enabled\", True)\\\n",
    "        .config(\"spark.shuffle.service.enabled\", True)\\\n",
    "        .config(\"spark.dynamicAllocation.executorIdleTimeout\",\"100s\")\\\n",
    "        .config(\"spark.executor.cores\",2)\\\n",
    "        .config(\"spark.driver.port\",9998)\\\n",
    "        .config(\"spark.blockManager.port\",10005)\\\n",
    "        .getOrCreate()\n",
    "\n",
    "# Old API (RDD)\n",
    "spark_context = spark_session.sparkContext\n",
    "\n",
    "spark_context.setLogLevel(\"INFO\")"
   ]
  },
  {
   "cell_type": "code",
   "execution_count": 2,
   "metadata": {},
   "outputs": [
    {
     "name": "stdout",
     "output_type": "stream",
     "text": [
      "total lines= 1862234\n",
      "total lines= 1862234\n"
     ]
    }
   ],
   "source": [
    "# The same example, this time using map and reduce from the Spark API, and loading the text file from HDFS.\n",
    "\n",
    "rdd1 = spark_context.textFile(\"hdfs://192.168.2.113:9000/europarl/europarl-v7.sv-en.en\")\n",
    "\n",
    "\n",
    "rdd2 = spark_context.textFile (\"hdfs://192.168.2.113:9000/europarl/europarl-v7.sv-en.sv\")\n",
    "\n",
    "\n",
    "lines = rdd1.count() \n",
    "print(f'total lines= {lines}') \n",
    "\n",
    "lines = rdd2.count() \n",
    "print(f'total lines= {lines}') \n",
    "\n",
    " "
   ]
  },
  {
   "cell_type": "code",
   "execution_count": 43,
   "metadata": {},
   "outputs": [
    {
     "data": {
      "text/plain": [
       "2"
      ]
     },
     "execution_count": 43,
     "metadata": {},
     "output_type": "execute_result"
    }
   ],
   "source": [
    "rdd1.getNumPartitions()"
   ]
  },
  {
   "cell_type": "code",
   "execution_count": 4,
   "metadata": {},
   "outputs": [
    {
     "data": {
      "text/plain": [
       "3"
      ]
     },
     "execution_count": 4,
     "metadata": {},
     "output_type": "execute_result"
    }
   ],
   "source": [
    "rdd2.getNumPartitions()"
   ]
  },
  {
   "cell_type": "code",
   "execution_count": 33,
   "metadata": {},
   "outputs": [
    {
     "data": {
      "text/plain": [
       "['Resumption of the session',\n",
       " 'I declare resumed the session of the European Parliament adjourned on Friday 17 December 1999, and I would like once again to wish you a happy new year in the hope that you enjoyed a pleasant festive period.',\n",
       " \"Although, as you will have seen, the dreaded 'millennium bug' failed to materialise, still the people in a number of countries suffered a series of natural disasters that truly were dreadful.\",\n",
       " 'You have requested a debate on this subject in the course of the next few days, during this part-session.',\n",
       " \"In the meantime, I should like to observe a minute' s silence, as a number of Members have requested, on behalf of all the victims concerned, particularly those of the terrible storms, in the various countries of the European Union.\",\n",
       " \"Please rise, then, for this minute' s silence.\",\n",
       " \"(The House rose and observed a minute' s silence)\",\n",
       " 'Madam President, on a point of order.',\n",
       " 'You will be aware from the press and television that there have been a number of bomb explosions and killings in Sri Lanka.',\n",
       " 'One of the people assassinated very recently in Sri Lanka was Mr Kumar Ponnambalam, who had visited the European Parliament just a few months ago.']"
      ]
     },
     "execution_count": 33,
     "metadata": {},
     "output_type": "execute_result"
    }
   ],
   "source": [
    "rdd1.take(10)"
   ]
  },
  {
   "cell_type": "code",
   "execution_count": 5,
   "metadata": {},
   "outputs": [],
   "source": [
    "def Func(lines):\n",
    "      lines = lines.lower()\n",
    "      lines = lines.split()\n",
    "      return lines\n",
    "mapred = rdd1.map(Func)"
   ]
  },
  {
   "cell_type": "code",
   "execution_count": 26,
   "metadata": {},
   "outputs": [
    {
     "name": "stdout",
     "output_type": "stream",
     "text": [
      "total lines= 45778381\n",
      "total lines= 41604741\n"
     ]
    }
   ],
   "source": [
    "# flatMap() to output multiple elements for each input value, split on space and make each word lowercase\n",
    "rdd3 = rdd1.flatMap(lambda x: x.lower().split(' '))\n",
    "\n",
    "rdd6 = rdd2.flatMap(lambda x: x.lower().split(' '))\n",
    "\n",
    "\n",
    "# Map a tuple and append int 1 for each word in words.txt\n",
    "rdd4 = rdd3.map(lambda x: (x,1))\n",
    "\n",
    "rdd8 = rdd6.map(lambda x: (x,1))\n",
    "\n",
    "\n",
    "lines = rdd3.count() \n",
    "print(f'total lines= {lines}')  \n",
    "\n",
    "lines = rdd6.count() \n",
    "print(f'total lines= {lines}')  \n"
   ]
  },
  {
   "cell_type": "code",
   "execution_count": 37,
   "metadata": {},
   "outputs": [
    {
     "data": {
      "text/plain": [
       "[('resumption', 523),\n",
       " ('of', 1659758),\n",
       " ('i', 501393),\n",
       " ('declare', 1360),\n",
       " ('european', 268599),\n",
       " ('parliament', 73330),\n",
       " ('adjourned', 359),\n",
       " ('friday', 560),\n",
       " ('17', 1718),\n",
       " ('1999,', 1035)]"
      ]
     },
     "execution_count": 37,
     "metadata": {},
     "output_type": "execute_result"
    }
   ],
   "source": [
    "rdd3.take(10)\n"
   ]
  },
  {
   "cell_type": "code",
   "execution_count": 36,
   "metadata": {},
   "outputs": [
    {
     "data": {
      "text/plain": [
       "['återupptagande',\n",
       " 'av',\n",
       " 'sessionen',\n",
       " 'jag',\n",
       " 'förklarar',\n",
       " 'europaparlamentets',\n",
       " 'session',\n",
       " 'återupptagen',\n",
       " 'efter',\n",
       " 'avbrottet']"
      ]
     },
     "execution_count": 36,
     "metadata": {},
     "output_type": "execute_result"
    }
   ],
   "source": [
    "rdd6.take(10)"
   ]
  },
  {
   "cell_type": "markdown",
   "metadata": {},
   "source": [
    "## Use Spark to compute the 10 most frequently according words in the English language corpus. Repeat for the other language.\n",
    "\n",
    "## Verify that your results are reasonable."
   ]
  },
  {
   "cell_type": "code",
   "execution_count": null,
   "metadata": {},
   "outputs": [],
   "source": []
  },
  {
   "cell_type": "code",
   "execution_count": 4,
   "metadata": {},
   "outputs": [
    {
     "data": {
      "text/plain": [
       "[(3498375, 'the'),\n",
       " (1659758, 'of'),\n",
       " (1539760, 'to'),\n",
       " (1288401, 'and'),\n",
       " (1085993, 'in'),\n",
       " (797516, 'that'),\n",
       " (773522, 'a'),\n",
       " (758050, 'is'),\n",
       " (534242, 'for'),\n",
       " (522849, 'we')]"
      ]
     },
     "execution_count": 4,
     "metadata": {},
     "output_type": "execute_result"
    }
   ],
   "source": [
    "# flatMap() to output multiple elements for each input value, split on space and make each word lowercase\n",
    "rdd3 = rdd1.flatMap(lambda x: x.lower().split(' '))\n",
    "\n",
    "# Map a tuple and append int 1 for each word in words.txt\n",
    "rdd4 = rdd3.map(lambda x: (x,1))\n",
    "\n",
    "# Perform aggregation (sum) all the int values for each unique key)\n",
    "rdd5 = rdd4.reduceByKey(lambda x, y: x+y)\n",
    "##lines = rdd3.count() \n",
    "rdd5.map(lambda x: (x[1], x[0])).sortByKey(False).take(10)\n",
    "#print(f'total lines= {lines}') \n",
    "#wf_broadcast_dict = spark_context.broadcast(rdd5.collectAsMap())\n",
    "#frequency = wf_broadcast_dict.value['cat']\n",
    "# ... the same number of words?"
   ]
  },
  {
   "cell_type": "code",
   "execution_count": 5,
   "metadata": {},
   "outputs": [
    {
     "data": {
      "text/plain": [
       "[('resumption', 523),\n",
       " ('of', 1659758),\n",
       " ('i', 501393),\n",
       " ('declare', 1360),\n",
       " ('european', 268599)]"
      ]
     },
     "execution_count": 5,
     "metadata": {},
     "output_type": "execute_result"
    }
   ],
   "source": [
    "rdd5.take(5)"
   ]
  },
  {
   "cell_type": "markdown",
   "metadata": {},
   "source": [
    "## Use this parallel corpus to mine some translations in the form of word pairs, for the two languages. Do this by pairing words found on short lines with the same number of words respectively. We (incorrectly) assume the words stay in the same order when translated.\n",
    "\n",
    "##  Follow this approach. Work with the pair of RDDs here. Hint: make a new pair of RDDs for each step, sv_1, en_1, sv_2, en_2, ..."
   ]
  },
  {
   "cell_type": "markdown",
   "metadata": {},
   "source": [
    "## 1. Key the lines by their line number (hint: ZipWithIndex())."
   ]
  },
  {
   "cell_type": "code",
   "execution_count": 6,
   "metadata": {},
   "outputs": [
    {
     "data": {
      "text/plain": [
       "[('Resumption of the session', 0),\n",
       " ('I declare resumed the session of the European Parliament adjourned on Friday 17 December 1999, and I would like once again to wish you a happy new year in the hope that you enjoyed a pleasant festive period.',\n",
       "  1),\n",
       " (\"Although, as you will have seen, the dreaded 'millennium bug' failed to materialise, still the people in a number of countries suffered a series of natural disasters that truly were dreadful.\",\n",
       "  2),\n",
       " ('You have requested a debate on this subject in the course of the next few days, during this part-session.',\n",
       "  3),\n",
       " (\"In the meantime, I should like to observe a minute' s silence, as a number of Members have requested, on behalf of all the victims concerned, particularly those of the terrible storms, in the various countries of the European Union.\",\n",
       "  4)]"
      ]
     },
     "execution_count": 6,
     "metadata": {},
     "output_type": "execute_result"
    }
   ],
   "source": [
    "en1 = rdd1.zipWithIndex()\n",
    "en1.take(5)"
   ]
  },
  {
   "cell_type": "code",
   "execution_count": 7,
   "metadata": {},
   "outputs": [
    {
     "data": {
      "text/plain": [
       "[('Återupptagande av sessionen', 0),\n",
       " ('Jag förklarar Europaparlamentets session återupptagen efter avbrottet den 17 december. Jag vill på nytt önska er ett gott nytt år och jag hoppas att ni haft en trevlig semester.',\n",
       "  1),\n",
       " ('Som ni kunnat konstatera ägde \"den stora år 2000-buggen\" aldrig rum. Däremot har invånarna i ett antal av våra medlemsländer drabbats av naturkatastrofer som verkligen varit förskräckliga.',\n",
       "  2),\n",
       " ('Ni har begärt en debatt i ämnet under sammanträdesperiodens kommande dagar.',\n",
       "  3),\n",
       " ('Till dess vill jag att vi, som ett antal kolleger begärt, håller en tyst minut för offren för bl.a. stormarna i de länder i Europeiska unionen som drabbats.',\n",
       "  4)]"
      ]
     },
     "execution_count": 7,
     "metadata": {},
     "output_type": "execute_result"
    }
   ],
   "source": [
    "sv1 = rdd2.zipWithIndex()\n",
    "sv1.take(5)"
   ]
  },
  {
   "cell_type": "markdown",
   "metadata": {},
   "source": [
    "## 2. Swap the key and value - so that the line number is the key."
   ]
  },
  {
   "cell_type": "code",
   "execution_count": 8,
   "metadata": {},
   "outputs": [
    {
     "data": {
      "text/plain": [
       "[(0, 'Resumption of the session'),\n",
       " (1,\n",
       "  'I declare resumed the session of the European Parliament adjourned on Friday 17 December 1999, and I would like once again to wish you a happy new year in the hope that you enjoyed a pleasant festive period.'),\n",
       " (2,\n",
       "  \"Although, as you will have seen, the dreaded 'millennium bug' failed to materialise, still the people in a number of countries suffered a series of natural disasters that truly were dreadful.\"),\n",
       " (3,\n",
       "  'You have requested a debate on this subject in the course of the next few days, during this part-session.'),\n",
       " (4,\n",
       "  \"In the meantime, I should like to observe a minute' s silence, as a number of Members have requested, on behalf of all the victims concerned, particularly those of the terrible storms, in the various countries of the European Union.\")]"
      ]
     },
     "execution_count": 8,
     "metadata": {},
     "output_type": "execute_result"
    }
   ],
   "source": [
    "rev_en = en1.map(lambda x: (x[1], x[0]))\n",
    "rev_en.take(5)"
   ]
  },
  {
   "cell_type": "code",
   "execution_count": 9,
   "metadata": {},
   "outputs": [
    {
     "data": {
      "text/plain": [
       "[(0, 'Återupptagande av sessionen'),\n",
       " (1,\n",
       "  'Jag förklarar Europaparlamentets session återupptagen efter avbrottet den 17 december. Jag vill på nytt önska er ett gott nytt år och jag hoppas att ni haft en trevlig semester.'),\n",
       " (2,\n",
       "  'Som ni kunnat konstatera ägde \"den stora år 2000-buggen\" aldrig rum. Däremot har invånarna i ett antal av våra medlemsländer drabbats av naturkatastrofer som verkligen varit förskräckliga.'),\n",
       " (3,\n",
       "  'Ni har begärt en debatt i ämnet under sammanträdesperiodens kommande dagar.'),\n",
       " (4,\n",
       "  'Till dess vill jag att vi, som ett antal kolleger begärt, håller en tyst minut för offren för bl.a. stormarna i de länder i Europeiska unionen som drabbats.')]"
      ]
     },
     "execution_count": 9,
     "metadata": {},
     "output_type": "execute_result"
    }
   ],
   "source": [
    "rev_sv = sv1.map(lambda x: (x[1], x[0]))\n",
    "rev_sv.take(5)"
   ]
  },
  {
   "cell_type": "markdown",
   "metadata": {},
   "source": [
    "##  3. Join the two RDDs together according to the line number key, so you have pairs of matching lines."
   ]
  },
  {
   "cell_type": "code",
   "execution_count": 10,
   "metadata": {},
   "outputs": [
    {
     "data": {
      "text/plain": [
       "[(0, ('Resumption of the session', 'Återupptagande av sessionen')),\n",
       " (5,\n",
       "  (\"Please rise, then, for this minute' s silence.\",\n",
       "   'Jag ber er resa er för en tyst minut.')),\n",
       " (10,\n",
       "  (\"Would it be appropriate for you, Madam President, to write a letter to the Sri Lankan President expressing Parliament's regret at his and the other violent deaths in Sri Lanka and urging her to do everything she possibly can to seek a peaceful reconciliation to a very difficult situation?\",\n",
       "   'Skulle det vara möjligt för er, fru talman, att skriva ett brev till den srilankesiska presidenten i vilket parlamentets beklagande uttrycks över hans och de övriga brutala dödsfallen i Sri Lanka och uppmanar henne att göra allt som står i hennes makt för att få en fredlig lösning på en mycket komplicerad situation?')),\n",
       " (15,\n",
       "  ('My question relates to something that will come up on Thursday and which I will then raise again.',\n",
       "   'Min fråga har att göra med något som kommer att behandlas på torsdag och som jag då kommer att ta upp igen.')),\n",
       " (20,\n",
       "  ('That is precisely the time when you may, if you wish, raise this question, i.e. on Thursday prior to the start of the presentation of the report.',\n",
       "   'Det är faktiskt just vid det tillfället som ni, om ni vill, kan ta upp denna fråga, dvs. på torsdag innan betänkandet läggs fram.')),\n",
       " (25,\n",
       "  ('Thank you, Mr Segni, I shall do so gladly.',\n",
       "   'Tack, herr Segni, det skall jag gärna göra.')),\n",
       " (30,\n",
       "  ('Now, however, he is to go before the courts once more because the public prosecutor is appealing.',\n",
       "   'Nu är det emellertid så att han skall åtalas på nytt i och med att allmänne åklagaren överklagar.')),\n",
       " (35,\n",
       "  ('But, Madam President, my personal request has not been met.',\n",
       "   'Men, fru talman, det som jag bad om har inte inträffat.')),\n",
       " (40,\n",
       "  ('Mrs Lynne, you are quite right and I shall check whether this has actually not been done.',\n",
       "   'Fru Lynne! Ni har helt rätt och jag skall kontrollera om allt detta faktiskt inte har gjorts.')),\n",
       " (45,\n",
       "  (\"The questions answered previously referred to Mrs de Palacio' s intervention, on another occasion, and not to these comments which appeared in the ABC newspaper on 18 November.\",\n",
       "   'De frågor som tidigare besvarats handlade om de Palacios inblandning i ett särskilt ärende, inte om de uttalanden som återgavs i dagstidningen ABC den 18 november i fjol.'))]"
      ]
     },
     "execution_count": 10,
     "metadata": {},
     "output_type": "execute_result"
    }
   ],
   "source": [
    "join=rev_en.join(rev_sv)\n",
    "join.take(10)"
   ]
  },
  {
   "cell_type": "markdown",
   "metadata": {},
   "source": [
    "##  4. Filter to exclude line pairs that have an empty/missing “corresponding” sentence."
   ]
  },
  {
   "cell_type": "code",
   "execution_count": 11,
   "metadata": {},
   "outputs": [],
   "source": [
    "non_empty_lines = join.filter(lambda x: len(x[1][0])>0 and len(x[1][1])>0).cache()"
   ]
  },
  {
   "cell_type": "code",
   "execution_count": 12,
   "metadata": {},
   "outputs": [
    {
     "data": {
      "text/plain": [
       "[(0, ('Resumption of the session', 'Återupptagande av sessionen')),\n",
       " (5,\n",
       "  (\"Please rise, then, for this minute' s silence.\",\n",
       "   'Jag ber er resa er för en tyst minut.')),\n",
       " (10,\n",
       "  (\"Would it be appropriate for you, Madam President, to write a letter to the Sri Lankan President expressing Parliament's regret at his and the other violent deaths in Sri Lanka and urging her to do everything she possibly can to seek a peaceful reconciliation to a very difficult situation?\",\n",
       "   'Skulle det vara möjligt för er, fru talman, att skriva ett brev till den srilankesiska presidenten i vilket parlamentets beklagande uttrycks över hans och de övriga brutala dödsfallen i Sri Lanka och uppmanar henne att göra allt som står i hennes makt för att få en fredlig lösning på en mycket komplicerad situation?')),\n",
       " (15,\n",
       "  ('My question relates to something that will come up on Thursday and which I will then raise again.',\n",
       "   'Min fråga har att göra med något som kommer att behandlas på torsdag och som jag då kommer att ta upp igen.')),\n",
       " (20,\n",
       "  ('That is precisely the time when you may, if you wish, raise this question, i.e. on Thursday prior to the start of the presentation of the report.',\n",
       "   'Det är faktiskt just vid det tillfället som ni, om ni vill, kan ta upp denna fråga, dvs. på torsdag innan betänkandet läggs fram.')),\n",
       " (25,\n",
       "  ('Thank you, Mr Segni, I shall do so gladly.',\n",
       "   'Tack, herr Segni, det skall jag gärna göra.')),\n",
       " (30,\n",
       "  ('Now, however, he is to go before the courts once more because the public prosecutor is appealing.',\n",
       "   'Nu är det emellertid så att han skall åtalas på nytt i och med att allmänne åklagaren överklagar.')),\n",
       " (35,\n",
       "  ('But, Madam President, my personal request has not been met.',\n",
       "   'Men, fru talman, det som jag bad om har inte inträffat.')),\n",
       " (40,\n",
       "  ('Mrs Lynne, you are quite right and I shall check whether this has actually not been done.',\n",
       "   'Fru Lynne! Ni har helt rätt och jag skall kontrollera om allt detta faktiskt inte har gjorts.')),\n",
       " (45,\n",
       "  (\"The questions answered previously referred to Mrs de Palacio' s intervention, on another occasion, and not to these comments which appeared in the ABC newspaper on 18 November.\",\n",
       "   'De frågor som tidigare besvarats handlade om de Palacios inblandning i ett särskilt ärende, inte om de uttalanden som återgavs i dagstidningen ABC den 18 november i fjol.'))]"
      ]
     },
     "execution_count": 12,
     "metadata": {},
     "output_type": "execute_result"
    }
   ],
   "source": [
    "non_empty_lines.take(10)"
   ]
  },
  {
   "cell_type": "markdown",
   "metadata": {},
   "source": [
    "## 5. Filter to leave only pairs of sentences with a small number of words per sentence, this should give a more reliable translation (you can experiment)."
   ]
  },
  {
   "cell_type": "code",
   "execution_count": 13,
   "metadata": {},
   "outputs": [
    {
     "data": {
      "text/plain": [
       "[(50, ('Agenda', 'Arbetsplan')),\n",
       " (90, ('Thank you very much.', 'Tack.')),\n",
       " (1295, ('Why?', 'Varför?')),\n",
       " (4465, ('(Applause)', '(Applåder)')),\n",
       " (4725, ('.', '.')),\n",
       " (5410, ('Court of First Instance', 'Förstainstansrätten')),\n",
       " (6690, ('.', '.')),\n",
       " (8585, ('Welcome', 'Välkomsthälsning')),\n",
       " (8760, ('.', '.')),\n",
       " (9045, ('.', '.'))]"
      ]
     },
     "execution_count": 13,
     "metadata": {},
     "output_type": "execute_result"
    }
   ],
   "source": [
    "non_empty_lines.sortBy(lambda x : len(x[1][1].split(' '))).take(10)\n",
    "#non_empty_lines.map(lambda x: (x[1], x[0])).sortByKey(True).take(4)\n",
    "#non_empty_lines.map(lambda x: (x[0], x[1][0], x[1][1], len(x[1][1].split(' ')) )).sortBy(lambda x : x[3]).take(10)\n",
    "#non_empty_lines.map(lambda x: (len(x[1][1].split(' ')), x[1], x[0])).sortByKey().take(4)"
   ]
  },
  {
   "cell_type": "code",
   "execution_count": 14,
   "metadata": {},
   "outputs": [],
   "source": [
    "non_empty_lines_no_dots = join.filter(lambda x: len(x[1][0])>0 and len(x[1][1])>0 and x[1][0]!= '.' and x[1][1]!= '.').cache()"
   ]
  },
  {
   "cell_type": "code",
   "execution_count": 15,
   "metadata": {},
   "outputs": [
    {
     "data": {
      "text/plain": [
       "[(0, ('Resumption of the session', 'Återupptagande av sessionen')),\n",
       " (5,\n",
       "  (\"Please rise, then, for this minute' s silence.\",\n",
       "   'Jag ber er resa er för en tyst minut.')),\n",
       " (10,\n",
       "  (\"Would it be appropriate for you, Madam President, to write a letter to the Sri Lankan President expressing Parliament's regret at his and the other violent deaths in Sri Lanka and urging her to do everything she possibly can to seek a peaceful reconciliation to a very difficult situation?\",\n",
       "   'Skulle det vara möjligt för er, fru talman, att skriva ett brev till den srilankesiska presidenten i vilket parlamentets beklagande uttrycks över hans och de övriga brutala dödsfallen i Sri Lanka och uppmanar henne att göra allt som står i hennes makt för att få en fredlig lösning på en mycket komplicerad situation?')),\n",
       " (15,\n",
       "  ('My question relates to something that will come up on Thursday and which I will then raise again.',\n",
       "   'Min fråga har att göra med något som kommer att behandlas på torsdag och som jag då kommer att ta upp igen.')),\n",
       " (20,\n",
       "  ('That is precisely the time when you may, if you wish, raise this question, i.e. on Thursday prior to the start of the presentation of the report.',\n",
       "   'Det är faktiskt just vid det tillfället som ni, om ni vill, kan ta upp denna fråga, dvs. på torsdag innan betänkandet läggs fram.')),\n",
       " (25,\n",
       "  ('Thank you, Mr Segni, I shall do so gladly.',\n",
       "   'Tack, herr Segni, det skall jag gärna göra.')),\n",
       " (30,\n",
       "  ('Now, however, he is to go before the courts once more because the public prosecutor is appealing.',\n",
       "   'Nu är det emellertid så att han skall åtalas på nytt i och med att allmänne åklagaren överklagar.')),\n",
       " (35,\n",
       "  ('But, Madam President, my personal request has not been met.',\n",
       "   'Men, fru talman, det som jag bad om har inte inträffat.')),\n",
       " (40,\n",
       "  ('Mrs Lynne, you are quite right and I shall check whether this has actually not been done.',\n",
       "   'Fru Lynne! Ni har helt rätt och jag skall kontrollera om allt detta faktiskt inte har gjorts.')),\n",
       " (45,\n",
       "  (\"The questions answered previously referred to Mrs de Palacio' s intervention, on another occasion, and not to these comments which appeared in the ABC newspaper on 18 November.\",\n",
       "   'De frågor som tidigare besvarats handlade om de Palacios inblandning i ett särskilt ärende, inte om de uttalanden som återgavs i dagstidningen ABC den 18 november i fjol.'))]"
      ]
     },
     "execution_count": 15,
     "metadata": {},
     "output_type": "execute_result"
    }
   ],
   "source": [
    "non_empty_lines_no_dots.take(10)"
   ]
  },
  {
   "cell_type": "code",
   "execution_count": 16,
   "metadata": {},
   "outputs": [
    {
     "data": {
      "text/plain": [
       "[(1297, ('No.', 'Nej.')),\n",
       " (1557, ('VOTE', 'OMRÖSTNING')),\n",
       " (3662, (\"'Long-winded' .\", 'Långrandigt.')),\n",
       " (4567, ('(Applause)', '(Applåder)')),\n",
       " (4837, ('Intergovernmental Conference', 'Regeringskonferensen')),\n",
       " (5662, ('ALTENER', 'Altener')),\n",
       " (7012, ('President.', 'Talmannen.')),\n",
       " (11507, ('Welcome', 'Välkomsthälsning')),\n",
       " (14877, ('Why not?', 'Varför?')),\n",
       " (15472, ('VOTE', 'OMRÖSTNING'))]"
      ]
     },
     "execution_count": 16,
     "metadata": {},
     "output_type": "execute_result"
    }
   ],
   "source": [
    "non_empty_lines_no_dots.sortBy(lambda x : len(x[1][1].split(' '))).take(10)"
   ]
  },
  {
   "cell_type": "markdown",
   "metadata": {},
   "source": [
    "## 6. Filter to leave only pairs of sentences with the same number of words in each sentence.\n"
   ]
  },
  {
   "cell_type": "code",
   "execution_count": 17,
   "metadata": {},
   "outputs": [],
   "source": [
    "non_empty_lines_equal = non_empty_lines_no_dots.filter(lambda x: len(x[1][0]) == len(x[1][1])).cache()"
   ]
  },
  {
   "cell_type": "code",
   "execution_count": 18,
   "metadata": {},
   "outputs": [
    {
     "data": {
      "text/plain": [
       "[(30,\n",
       "  ('Now, however, he is to go before the courts once more because the public prosecutor is appealing.',\n",
       "   'Nu är det emellertid så att han skall åtalas på nytt i och med att allmänne åklagaren överklagar.')),\n",
       " (305,\n",
       "  ('Therefore, we support the establishment of an agricultural and rural development policy which is consistent with the objectives we have set. We want rural areas, at the dawn of the 21st century, to be competitive and multi-functional, both with regard to agriculture and with regard to opening up to the diversity of non-agricultural activities.',\n",
       "   'Därför förespråkar vi att man fastslår en politik för jordbruket och landsbygdens utveckling som överensstämmer med de mål som vi har satt upp och att landsbygden, i början av 2000-talet, skall vara konkurrenskraftig och mångfunktionell, såväl ur jordbrukssynpunkt som beträffande en öppen attityd gentemot olika verksamheter utanför jordbruket.')),\n",
       " (555,\n",
       "  ('The EU really deserves such a gesture, but differences between rich and poor areas within countries are still too great.',\n",
       "   'EU är verkligen värd en eloge, men skillnaderna mellan fattiga och rika regioner inom länderna är fortfarande för stora.')),\n",
       " (945,\n",
       "  ('If the Commission implements the White Paper objectives, it seems to me that discrimination within the internal market and between external and internal legal advisers will become more pronounced and hence even less acceptable.',\n",
       "   'Om kommissionen genomför sina föresatser i vitboken förefaller det mig som om diskrimineringen på den inre marknaden mellan de externa och de interna juridiska rådgivarna kommer att bli större och således också mer oacceptabla.')),\n",
       " (1485,\n",
       "  ('Mr President, I want to concentrate on the issue of corpus juris.',\n",
       "   'Herr talman! Jag skall koncentrera mig på frågan om corpus juris.')),\n",
       " (1675,\n",
       "  ('On the other hand, it is crucial that there are precise indications and sufficient funds in areas such as creating decent jobs - with rights - effectively promoting equality in law and opportunity, and supporting the social economy and solidarity. There must also be support for rural development, for small and medium-sized enterprises, for improving the quality of life of urban populations in deprived areas, specifically in the field of social housing, with a view to achieving sustainable urban development.',\n",
       "   'Det är också viktigt att det finns precisa indikationer och tillräckliga medel för att skapa kvalitativ sysselsättning med rättigheter liksom för att effektivt främja lika rättigheter och möjligheter, stödja en social och solidarisk ekonomi, landsbygdens utveckling, de små och medelstora företagarna, samt för att förbättra livskvaliteten för stadsbefolkningen i fattigare områden, främst inom området för bostäder som subventioneras med allmänna medel, för att härigenom uppnå en hållbar utveckling i städerna.')),\n",
       " (1680,\n",
       "  ('SMEs, micro-enterprises and craft businesses in particular are still \"weak operators\" , given that it is precisely for them that the regulatory and administrative constraints imposed by some Member States, including Italy, are major obstacles to accessing Structural Funds.',\n",
       "   'Små och medelstora företag, mikroföretag och hantverkare är fortfarande \"svaga subjekt\", eftersom de hinder som finns i regler och byråkratiska rutiner i vissa medlemsstater, bland annat Italien, just för dem gör det betydligt svårare att få tillgång till strukturfonderna.')),\n",
       " (1770,\n",
       "  ('Finally, after Seattle, do you really think you can advocate increasing the role of the WTO?',\n",
       "   'Anser ni slutligen att det efter Seattle är seriöst att förespråka en utvidgad roll för WTO?')),\n",
       " (2065,\n",
       "  ('We must thank those who, while defenceless and lacking in resources, have battled courageously against the grave effects that this disaster has had on coastal regions, the marine ecosystem and European fishing stocks.',\n",
       "   'Vi måste tacka alla dem som i ett sådant utsatt läge med knappa resurser har visat mod i kampen mot de allvarliga konsekvenserna av denna katastrof för kustregionerna, ekosystemet till sjöss och Europas fiskeresurser.')),\n",
       " (2280,\n",
       "  ('What we need the Commission to do as a matter of urgency is to approve national aid, so as to avoid the competition issue being raised again at a later date.',\n",
       "   'Vad vi ur kommissionens synpunkt absolut behöver, är också ett ja till de nationella stöden, så att vi inte senare åter talar om några konkurrenssituationer.'))]"
      ]
     },
     "execution_count": 18,
     "metadata": {},
     "output_type": "execute_result"
    }
   ],
   "source": [
    "non_empty_lines_equal.take(10)"
   ]
  },
  {
   "cell_type": "code",
   "execution_count": 6,
   "metadata": {},
   "outputs": [],
   "source": [
    "#non_empty_lines_equal.flatMap(lambda x: zip(x[0],x[1])).take(3)"
   ]
  },
  {
   "cell_type": "markdown",
   "metadata": {},
   "source": [
    "## 7. For each sentence pair, map so that you pair each (in order) word in the two sentences. We no longer need the line numbers. (hint: use python’s built in zip() function)\n",
    "## 8. Use reduce to count the number of occurrences of the word-translation-pairs.\n",
    "\n",
    "## 9. Print some of the most frequently occurring pairs of words."
   ]
  },
  {
   "cell_type": "code",
   "execution_count": 19,
   "metadata": {},
   "outputs": [],
   "source": [
    "val_en = non_empty_lines_equal.map(lambda x: x[1][0])\n",
    "val_sv = non_empty_lines_equal.map(lambda x: x[1][1])\n",
    "#y = sc.parallelize(range(1000, 1005))\n",
    "#non_empty_lines_equal.zip(non_empty_lines_equal).collect()"
   ]
  },
  {
   "cell_type": "code",
   "execution_count": 20,
   "metadata": {},
   "outputs": [
    {
     "data": {
      "text/plain": [
       "['Now, however, he is to go before the courts once more because the public prosecutor is appealing.',\n",
       " 'Therefore, we support the establishment of an agricultural and rural development policy which is consistent with the objectives we have set. We want rural areas, at the dawn of the 21st century, to be competitive and multi-functional, both with regard to agriculture and with regard to opening up to the diversity of non-agricultural activities.']"
      ]
     },
     "execution_count": 20,
     "metadata": {},
     "output_type": "execute_result"
    }
   ],
   "source": [
    "val_en.take(2)"
   ]
  },
  {
   "cell_type": "code",
   "execution_count": 21,
   "metadata": {},
   "outputs": [
    {
     "data": {
      "text/plain": [
       "['Nu är det emellertid så att han skall åtalas på nytt i och med att allmänne åklagaren överklagar.',\n",
       " 'Därför förespråkar vi att man fastslår en politik för jordbruket och landsbygdens utveckling som överensstämmer med de mål som vi har satt upp och att landsbygden, i början av 2000-talet, skall vara konkurrenskraftig och mångfunktionell, såväl ur jordbrukssynpunkt som beträffande en öppen attityd gentemot olika verksamheter utanför jordbruket.']"
      ]
     },
     "execution_count": 21,
     "metadata": {},
     "output_type": "execute_result"
    }
   ],
   "source": [
    "val_sv.take(2)"
   ]
  },
  {
   "cell_type": "code",
   "execution_count": 31,
   "metadata": {},
   "outputs": [],
   "source": [
    "words_en = val_en.map(lambda line: line.split(' '))\n",
    "words_sv = val_sv.map(lambda line: line.split(' '))\n",
    "pair_words = words_en.zip(words_sv)\n",
    "pairs = pair_words.flatMap(lambda x: zip(x[0],x[1]))"
   ]
  },
  {
   "cell_type": "code",
   "execution_count": 34,
   "metadata": {},
   "outputs": [
    {
     "data": {
      "text/plain": [
       "[('Now,', 'Nu'),\n",
       " ('however,', 'är'),\n",
       " ('he', 'det'),\n",
       " ('is', 'emellertid'),\n",
       " ('to', 'så'),\n",
       " ('go', 'att'),\n",
       " ('before', 'han'),\n",
       " ('the', 'skall'),\n",
       " ('courts', 'åtalas'),\n",
       " ('once', 'på')]"
      ]
     },
     "execution_count": 34,
     "metadata": {},
     "output_type": "execute_result"
    }
   ],
   "source": [
    "pairs.take(10)"
   ]
  },
  {
   "cell_type": "code",
   "execution_count": 39,
   "metadata": {},
   "outputs": [
    {
     "data": {
      "text/plain": [
       "[('…\\xa0för', '…\\xa0for'),\n",
       " ('•••', '•'),\n",
       " ('”öppenhet”,', \"'control',\"),\n",
       " ('”öga', 'terror,'),\n",
       " ('”Är', 'Ettore'),\n",
       " ('”vår', \"'our\"),\n",
       " ('”vänstervriden”', \"wing'\"),\n",
       " ('”vinn-vinn-situation”.', \"'win-win\"),\n",
       " ('”verktygslådan”', \"'tool\"),\n",
       " ('”vart', \"'every\"),\n",
       " ('”varför', \"'Why\"),\n",
       " ('”valuta', \"'value\"),\n",
       " ('”utan', \"'without\"),\n",
       " ('”unga', '‘young'),\n",
       " ('”täppa', \"'stop-gap\"),\n",
       " ('”turism', '‘tourism'),\n",
       " ('”tragedi”:', \"'disaster':\"),\n",
       " ('”tillfälliga”', \"'temporary'\"),\n",
       " ('”tamtam”-system', \"'tom-tom'\"),\n",
       " ('”svarta', \"'black\")]"
      ]
     },
     "execution_count": 39,
     "metadata": {},
     "output_type": "execute_result"
    }
   ],
   "source": [
    "pairs2 = pairs.reduceByKey(lambda x, y: x+y)\n",
    "##lines = rdd3.count() \n",
    "pairs2.map(lambda x: (x[1], x[0])).sortByKey(False).take(20)"
   ]
  },
  {
   "cell_type": "code",
   "execution_count": null,
   "metadata": {},
   "outputs": [],
   "source": [
    "# release the cores for another application!\n",
    "spark_context.stop()"
   ]
  }
 ],
 "metadata": {
  "kernelspec": {
   "display_name": "Python 3",
   "language": "python",
   "name": "python3"
  },
  "language_info": {
   "codemirror_mode": {
    "name": "ipython",
    "version": 3
   },
   "file_extension": ".py",
   "mimetype": "text/x-python",
   "name": "python",
   "nbconvert_exporter": "python",
   "pygments_lexer": "ipython3",
   "version": "3.7.3"
  }
 },
 "nbformat": 4,
 "nbformat_minor": 5
}
